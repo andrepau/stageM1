{
 "cells": [
  {
   "cell_type": "code",
   "execution_count": 1,
   "metadata": {},
   "outputs": [
    {
     "name": "stdout",
     "output_type": "stream",
     "text": [
      "Vs attendu (m/s):200\n",
      "fmin, capteurs? (Hz):20\n",
      "Pmax = 3.3333333333333335 m, profondeur de pénétration max\n"
     ]
    }
   ],
   "source": [
    "#pour connaître les profondeur de pénétration min et max à partir\n",
    "#de la configuration géométrique de l'acquisition \n",
    "\n",
    "Vs=input('Vs attendu (m/s):')\n",
    "Vs=float(Vs)\n",
    "\n",
    "#caractéristique geophone\n",
    "fmin=input('fmin, capteurs? (Hz):')\n",
    "fmin=float(fmin)\n",
    "Pmax=(Vs/fmin)/3 \n",
    "print('Pmax =', Pmax, 'm, profondeur de pénétration max')"
   ]
  },
  {
   "cell_type": "code",
   "execution_count": 2,
   "metadata": {},
   "outputs": [
    {
     "name": "stdout",
     "output_type": "stream",
     "text": [
      "ecartement capteur dx (m):2\n",
      "fmax=  50.0 Hz, limite de l'aliasing\n",
      "Pmin = 1.3333333333333333 Pénétration minimun\n"
     ]
    }
   ],
   "source": [
    "#aliasing dx\n",
    "dx=input('ecartement capteur dx (m):')\n",
    "dx=float(dx)\n",
    "wlmin=2*dx\n",
    "fmax=Vs/wlmin\n",
    "print('fmax= ', fmax, 'Hz, limite de l\\'aliasing')\n",
    "Pmin=wlmin/3\n",
    "print('Pmin =', Pmin, 'Pénétration minimun')"
   ]
  },
  {
   "cell_type": "code",
   "execution_count": 3,
   "metadata": {},
   "outputs": [
    {
     "name": "stdout",
     "output_type": "stream",
     "text": [
      "longueur du dispositif L (m):20\n",
      "8.0\n",
      "fminL= 25.0 Hz, due a la longueur du dispo\n",
      "PmaxL = 2.6666666666666665 m, profondeur de pénétration max du à la longueur du dispo\n",
      "nombre de capteurs = 11.0\n"
     ]
    }
   ],
   "source": [
    "#longueur du dispo\n",
    "L=input('longueur du dispositif L (m):')\n",
    "L=float(L)\n",
    "wlmax=0.4*L    #d'après O'Neil\n",
    "print(wlmax)\n",
    "\n",
    "fminL=(Vs/wlmax)\n",
    "print('fminL=',fminL,'Hz, due a la longueur du dispo')\n",
    "PmaxL=(Vs/fminL)/3 \n",
    "print('PmaxL =', PmaxL, 'm, profondeur de pénétration max du à la longueur du dispo')\n",
    "nbcap=(L/dx)+1\n",
    "print('nombre de capteurs =', nbcap )\n"
   ]
  },
  {
   "cell_type": "code",
   "execution_count": 4,
   "metadata": {},
   "outputs": [
    {
     "name": "stdout",
     "output_type": "stream",
     "text": [
      "Position de la source au premier recepteur de 4.0 à 10.0 m\n",
      "distance entre la source et le premier recepteur p (m):2\n",
      "fmincp= 50.0 Hz, due au champ proche\n",
      "Pmaxcp = 1.3333333333333333 m, profondeur de pénétration max due au champ proche\n"
     ]
    }
   ],
   "source": [
    "#position de la source\n",
    "pmin=2*dx\n",
    "pmax=5*dx\n",
    "print('Position de la source au premier recepteur de', pmin, 'à',pmax, 'm')\n",
    "\n",
    "p=input('distance entre la source et le premier recepteur p (m):')\n",
    "p=float(p)\n",
    "#champs proche \n",
    "wlmaxcp=2*p\n",
    "fmincp=(Vs/wlmaxcp)\n",
    "print('fmincp=',fmincp,'Hz, due au champ proche')\n",
    "Pmaxcp=(Vs/fmincp)/3 \n",
    "print('Pmaxcp =', Pmaxcp, 'm, profondeur de pénétration max due au champ proche')"
   ]
  },
  {
   "cell_type": "code",
   "execution_count": 5,
   "metadata": {},
   "outputs": [
    {
     "name": "stdout",
     "output_type": "stream",
     "text": [
      "dl= 0.4 m, taille de la maille\n"
     ]
    }
   ],
   "source": [
    "#maillage \n",
    "dl=(Vs/(10*fmax))\n",
    "print('dl=',dl,'m, taille de la maille')"
   ]
  },
  {
   "cell_type": "code",
   "execution_count": 6,
   "metadata": {},
   "outputs": [],
   "source": []
  },
  {
   "cell_type": "code",
   "execution_count": null,
   "metadata": {},
   "outputs": [],
   "source": []
  },
  {
   "cell_type": "code",
   "execution_count": null,
   "metadata": {},
   "outputs": [],
   "source": []
  },
  {
   "cell_type": "code",
   "execution_count": null,
   "metadata": {},
   "outputs": [],
   "source": []
  },
  {
   "cell_type": "code",
   "execution_count": null,
   "metadata": {},
   "outputs": [],
   "source": []
  },
  {
   "cell_type": "code",
   "execution_count": null,
   "metadata": {},
   "outputs": [],
   "source": []
  },
  {
   "cell_type": "code",
   "execution_count": null,
   "metadata": {},
   "outputs": [],
   "source": []
  }
 ],
 "metadata": {
  "kernelspec": {
   "display_name": "Python 3",
   "language": "python",
   "name": "python3"
  },
  "language_info": {
   "codemirror_mode": {
    "name": "ipython",
    "version": 3
   },
   "file_extension": ".py",
   "mimetype": "text/x-python",
   "name": "python",
   "nbconvert_exporter": "python",
   "pygments_lexer": "ipython3",
   "version": "3.7.6"
  }
 },
 "nbformat": 4,
 "nbformat_minor": 2
}
