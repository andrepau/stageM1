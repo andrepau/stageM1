{
 "cells": [
  {
   "cell_type": "code",
   "execution_count": 1,
   "metadata": {
    "scrolled": true
   },
   "outputs": [],
   "source": [
    "import numpy as np\n",
    "import matplotlib.pyplot as plt\n",
    "import pandas as pd\n",
    "import fonction_stage as st"
   ]
  },
  {
   "cell_type": "markdown",
   "metadata": {},
   "source": [
    "**Notebook - étude de la géométrie de modèle destinée à EFISPEC3D, avec les contraintes de maillage**"
   ]
  },
  {
   "cell_type": "markdown",
   "metadata": {},
   "source": [
    "**I - Les paramètres connus**"
   ]
  },
  {
   "cell_type": "code",
   "execution_count": 2,
   "metadata": {
    "scrolled": true
   },
   "outputs": [],
   "source": [
    "n=2      #nombre de couches \n",
    "Vp=(360.0,0) \n",
    "Vs=(175,0)\n",
    "rho=(1.6,0)\n",
    "h=(10,0)  #0= à calculer\n"
   ]
  },
  {
   "cell_type": "code",
   "execution_count": 3,
   "metadata": {
    "scrolled": true
   },
   "outputs": [
    {
     "name": "stdout",
     "output_type": "stream",
     "text": [
      "          Vp (m/s)  Vs (m/s)  rho (g/cm3)  h (m)\n",
      "Couche 1     360.0       175          1.6     10\n",
      "Couche 2       0.0         0          0.0      0\n"
     ]
    }
   ],
   "source": [
    "#tableau panda\n",
    "tab=pd.DataFrame({'Vp (m/s)': [Vp[0], Vp[1]], 'Vs (m/s)': [Vs[0], Vs[1]], 'rho (g/cm3)':[rho[0], rho[1]], 'h (m)':[h[0], h[1]]}, index=['Couche 1', 'Couche 2'])\n",
    "print(tab)"
   ]
  },
  {
   "cell_type": "code",
   "execution_count": null,
   "metadata": {},
   "outputs": [],
   "source": []
  },
  {
   "cell_type": "markdown",
   "metadata": {},
   "source": [
    "**II - Géométrie pour eviter les artefacts**\n"
   ]
  },
  {
   "cell_type": "markdown",
   "metadata": {},
   "source": [
    "L'onde reflechis sur les bords du modèle ne dois pas revenir dans le temps de la simulation\n"
   ]
  },
  {
   "cell_type": "code",
   "execution_count": 4,
   "metadata": {
    "scrolled": true
   },
   "outputs": [
    {
     "name": "stdout",
     "output_type": "stream",
     "text": [
      "\u001b[2;30;49mVmax= 360.0\n"
     ]
    }
   ],
   "source": [
    "tsimu=0.6#temps de la simulation \n",
    "Vmax=np.max(Vp) #plus grande vitesse\n",
    "print('\\033[2;30;49mVmax=', Vmax)"
   ]
  },
  {
   "cell_type": "markdown",
   "metadata": {},
   "source": [
    "Il faut avoir une idées de la disposition de la source et des recepteurs"
   ]
  },
  {
   "cell_type": "code",
   "execution_count": 5,
   "metadata": {
    "scrolled": true
   },
   "outputs": [
    {
     "name": "stdout",
     "output_type": "stream",
     "text": [
      "\u001b[2;34;49mL= 28 \u001b[2;34;49mm\n"
     ]
    }
   ],
   "source": [
    "x1=5 #(m) distance source - 1er recepteur\n",
    "nb=24 # nombre de recepteur\n",
    "dx=1 #(m) espacement recpteurs \n",
    "\n",
    "L=(nb*dx)-1+x1 #(m) taille de dispositif avec source =0\n",
    "print('\\033[2;34;49mL=',L,\"\\033[2;34;49mm\")\n",
    "\n",
    "recepx=np.arange(x1,L+1,dx)\n",
    "recepy=np.linspace(0,0,L+1-x1)\n"
   ]
  },
  {
   "cell_type": "code",
   "execution_count": 6,
   "metadata": {
    "scrolled": true
   },
   "outputs": [
    {
     "data": {
      "image/png": "[encoded data removed]",
      "text/plain": [
       "<Figure size 1152x144 with 1 Axes>"
      ]
     },
     "metadata": {
      "needs_background": "light"
     },
     "output_type": "display_data"
    }
   ],
   "source": [
    "#représentation graphique \n",
    "plt.figure(figsize=(16,2))\n",
    "plt.plot(recepx,recepy,'.')\n",
    "sourcex=0\n",
    "sourcey=0\n",
    "plt.plot(sourcex,sourcey,'.')\n",
    "plt.grid()"
   ]
  },
  {
   "cell_type": "code",
   "execution_count": 7,
   "metadata": {
    "scrolled": true
   },
   "outputs": [
    {
     "name": "stdout",
     "output_type": "stream",
     "text": [
      "\u001b[2;34;49mx= 48.0 m\n",
      "\u001b[2;34;49my= 20.0 m\n",
      "\u001b[2;34;49mz= 10.0 m\n"
     ]
    }
   ],
   "source": [
    "# en Z trajet le plus court source-source\n",
    "z=(Vmax*tsimu)/2\n",
    "z=z-98\n",
    "y=2*z\n",
    "xneg=z\n",
    "xpos=z+L\n",
    "x=xneg+xpos\n",
    "print('\\033[2;34;49mx=',x, 'm')\n",
    "print('\\033[2;34;49my=',y, 'm')\n",
    "print('\\033[2;34;49mz=',z, 'm')\n"
   ]
  },
  {
   "cell_type": "code",
   "execution_count": 8,
   "metadata": {
    "scrolled": true
   },
   "outputs": [
    {
     "data": {
      "image/png": "[encoded data removed]",
      "text/plain": [
       "<Figure size 1080x1080 with 3 Axes>"
      ]
     },
     "metadata": {
      "needs_background": "light"
     },
     "output_type": "display_data"
    }
   ],
   "source": [
    "#représentation \n",
    "h1=h[0]\n",
    "st.geom(x,y,z,h1,recepx,xneg,recepy)"
   ]
  },
  {
   "cell_type": "code",
   "execution_count": 9,
   "metadata": {
    "scrolled": false
   },
   "outputs": [
    {
     "name": "stdout",
     "output_type": "stream",
     "text": [
      "          Vp (m/s)  Vs (m/s)  rho (g/cm3)  h (m)\n",
      "Couche 1     360.0       175          1.6   10.0\n",
      "Couche 2       0.0         0          0.0   10.0\n"
     ]
    }
   ],
   "source": [
    "tab=pd.DataFrame({'Vp (m/s)': [Vp[0], Vp[1]], 'Vs (m/s)': [Vs[0], Vs[1]], 'rho (g/cm3)':[rho[0], rho[1]], 'h (m)':[h[0],z]}, index=['Couche 1', 'Couche 2'])\n",
    "print(tab)"
   ]
  },
  {
   "cell_type": "markdown",
   "metadata": {
    "scrolled": true
   },
   "source": [
    "**III - Maillage**\n"
   ]
  },
  {
   "cell_type": "code",
   "execution_count": 10,
   "metadata": {
    "scrolled": true
   },
   "outputs": [
    {
     "name": "stdout",
     "output_type": "stream",
     "text": [
      "\u001b[2;30;49mVs min couche 1 = 175 m/s\n",
      "\u001b[2;30;49mPlus petite longueur d'onde = 1.1666666666666667 m\n",
      "\u001b[2;34;49mdonc taille MAX de la maille de la couche 1 = 1.1666666666666667 m pour eviter l'alising\n"
     ]
    }
   ],
   "source": [
    "#quel est la fréquence max pour la quel on veux du signal ?\n",
    "fmax=150 #Hz\n",
    "\n",
    "#la plus petite longueur d'onde S de la couche 1\n",
    "wlmin1=Vs[0]/fmax\n",
    "\n",
    "print(\"\\033[2;30;49mVs min couche 1 =\", Vs[0], 'm/s')\n",
    "print(\"\\033[2;30;49mPlus petite longueur d'onde =\", wlmin1, 'm')\n",
    "print (\"\\033[2;34;49mdonc taille MAX de la maille de la couche 1 =\",  wlmin1, 'm', \"pour eviter l'alising\")\n"
   ]
  },
  {
   "cell_type": "code",
   "execution_count": 11,
   "metadata": {},
   "outputs": [
    {
     "name": "stdout",
     "output_type": "stream",
     "text": [
      "\u001b[2;30;49mnb de maille en z= 144.0\n",
      "\u001b[2;30;49mmodulo 0\n",
      "\u001b[2;30;49mnb de maille en x= 48.0\n",
      "\u001b[2;30;49mmodulo 0.0\n",
      "\u001b[2;30;49mnb de maille en y= 20.0\n",
      "\u001b[2;30;49mmodulo 0.0\n"
     ]
    }
   ],
   "source": [
    "#couche 1\n",
    "maille1=wlmin1    #ou moins\n",
    "maille1=1\n",
    "\n",
    "print('\\033[2;30;49mnb de maille en z=', 144/maille1)\n",
    "print('\\033[2;30;49mmodulo', 144%maille1)\n",
    "\n",
    "print('\\033[2;30;49mnb de maille en x=', x/maille1)\n",
    "print('\\033[2;30;49mmodulo', x%maille1)\n",
    "\n",
    "print('\\033[2;30;49mnb de maille en y=', y/maille1)\n",
    "print('\\033[2;30;49mmodulo', y%maille1)\n"
   ]
  },
  {
   "cell_type": "code",
   "execution_count": 12,
   "metadata": {},
   "outputs": [
    {
     "name": "stdout",
     "output_type": "stream",
     "text": [
      "\u001b[2;34;49mMaille couche 1 = 1 m\n"
     ]
    }
   ],
   "source": [
    "print ('\\033[2;34;49mMaille couche 1 =', maille1, 'm')\n"
   ]
  },
  {
   "cell_type": "markdown",
   "metadata": {},
   "source": [
    "**IV- Source**"
   ]
  },
  {
   "attachments": {
    "Capture.PNG": {
     "image/png": "[encoded data removed]"
    }
   },
   "cell_type": "markdown",
   "metadata": {},
   "source": [
    "La source de type Ricker implementé dans EFISPEC :\n",
    "![Capture.PNG](attachment:Capture.PNG)\n",
    "\n",
    "fmax = 3 x f0 pour cette fonction"
   ]
  },
  {
   "cell_type": "code",
   "execution_count": 13,
   "metadata": {
    "scrolled": true
   },
   "outputs": [
    {
     "name": "stdout",
     "output_type": "stream",
     "text": [
      "\u001b[2;30;49mtp= 0.02\n",
      "f1= 50.0\n"
     ]
    },
    {
     "data": {
      "image/png": "[encoded data removed]",
      "text/plain": [
       "<Figure size 1080x360 with 2 Axes>"
      ]
     },
     "metadata": {
      "needs_background": "light"
     },
     "output_type": "display_data"
    }
   ],
   "source": [
    "fp=fmax/3\n",
    "tp = 1/fp\n",
    "print('\\033[2;30;49mtp=',tp)\n",
    "#fonction de Ricker centré sur f0\n",
    "#en orange la fin de la simulation \n",
    "st.ricker(tp,tsimu=tsimu,ts=0.05,grafmax=200)\n"
   ]
  },
  {
   "cell_type": "markdown",
   "metadata": {
    "scrolled": true
   },
   "source": [
    "**V - Temps de calcul EFISPEC**\n",
    " "
   ]
  },
  {
   "cell_type": "code",
   "execution_count": 14,
   "metadata": {},
   "outputs": [
    {
     "name": "stdout",
     "output_type": "stream",
     "text": [
      "\u001b[2;34;49mPas de temps simulation = 0.0001611111111111111\n"
     ]
    }
   ],
   "source": [
    "#time step \n",
    "\n",
    "n0=0.29 #nombre de courant\n",
    "dt=(n0*(maille1/5))/Vmax\n",
    "\n",
    "print(\"\\033[2;34;49mPas de temps simulation =\", dt)"
   ]
  },
  {
   "cell_type": "code",
   "execution_count": 15,
   "metadata": {},
   "outputs": [
    {
     "name": "stdout",
     "output_type": "stream",
     "text": [
      "\u001b[2;30;49mtemps de calcul = 43.199999999999996 (s)\n",
      "\u001b[2;30;49mtemps de calcul = 0.72 (min)\n",
      "\u001b[2;30;49mtemps de calcul = 0.012 (h)\n",
      "\u001b[2;34;49mnb hexa = 9600.0\n",
      "\u001b[2;34;49mnb pas de temps = 3724.137931034483\n"
     ]
    }
   ],
   "source": [
    "#si on garde la même configuration 1 noeud 24 coeurs\n",
    "average_time=0.29*10**-4     #par time step et par hexahedron !A vérifié!\n",
    "nb_coeurs=24\n",
    "\n",
    "#A modifier\n",
    "total_hexa=x*y*z/(maille1)**3\n",
    "#total_hexa=   avec Cubit\n",
    "nb_timestep=tsimu/dt\n",
    "\n",
    "temps_calcul= (average_time*total_hexa*nb_timestep)/nb_coeurs\n",
    "print('\\033[2;30;49mtemps de calcul =', temps_calcul, '(s)')\n",
    "print('\\033[2;30;49mtemps de calcul =', temps_calcul/60, '(min)')\n",
    "print('\\033[2;30;49mtemps de calcul =', (temps_calcul/60)/60, '(h)')\n",
    "print('\\033[2;34;49mnb hexa =', total_hexa)\n",
    "print('\\033[2;34;49mnb pas de temps =', nb_timestep)"
   ]
  },
  {
   "cell_type": "code",
   "execution_count": null,
   "metadata": {},
   "outputs": [],
   "source": []
  },
  {
   "cell_type": "code",
   "execution_count": null,
   "metadata": {},
   "outputs": [],
   "source": []
  }
 ],
 "metadata": {
  "celltoolbar": "Aucun(e)",
  "kernelspec": {
   "display_name": "Python 3",
   "language": "python",
   "name": "python3"
  },
  "language_info": {
   "codemirror_mode": {
    "name": "ipython",
    "version": 3
   },
   "file_extension": ".py",
   "mimetype": "text/x-python",
   "name": "python",
   "nbconvert_exporter": "python",
   "pygments_lexer": "ipython3",
   "version": "3.7.6"
  }
 },
 "nbformat": 4,
 "nbformat_minor": 2
}
