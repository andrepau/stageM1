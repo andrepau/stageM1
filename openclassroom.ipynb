{
 "cells": [
  {
   "cell_type": "code",
   "execution_count": null,
   "metadata": {},
   "outputs": [],
   "source": [
    "# Mon programme testant si une année, saisie par l'utilisateur,\n",
    "# est bissextile ou non\n",
    "\n",
    "annee=input('Saisissez une année :')\n",
    "annee=int(annee)\n",
    "if annee%4 !=0:\n",
    "    print(annee, \"n\\'est pas bissextile\")\n",
    "elif annee%4 ==0: \n",
    "    print (annee, \"est bissextile\")\n",
    "elif annee%4 ==0 and annee%100 ==0 and annee%400 ==0:\n",
    "    print (annee, 'est bissextile')\n",
    "else:\n",
    "    print(annee, \"n\\'est pas bissextile\")"
   ]
  },
  {
   "cell_type": "markdown",
   "metadata": {},
   "source": [
    "**Correction**"
   ]
  },
  {
   "cell_type": "code",
   "execution_count": null,
   "metadata": {},
   "outputs": [],
   "source": [
    "# Programme testant si une année, saisie par l'utilisateur,\n",
    "# est bissextile ou non\n",
    "\n",
    "annee = input(\"Saisissez une année : \") # On attend que l'utilisateur saisisse l'année qu'il désire tester\n",
    "annee = int(annee) # Risque d'erreur si l'utilisateur n'a pas saisi un nombre\n",
    "bissextile = False # On crée un booléen qui vaut vrai ou faux\n",
    "                   # selon que l'année est bissextile ou non\n",
    "\n",
    "if annee % 400 == 0:\n",
    "    bissextile = True\n",
    "elif annee % 100 == 0:\n",
    "    bissextile = False\n",
    "elif annee % 4 == 0:\n",
    "    bissextile = True\n",
    "else:\n",
    "    bissextile = False\n",
    "\n",
    "if bissextile: # Si l'année est bissextile\n",
    "    print(\"L'année saisie est bissextile.\")\n",
    "else:\n",
    "    print(\"L'année saisie n'est pas bissextile.\")"
   ]
  },
  {
   "cell_type": "markdown",
   "metadata": {},
   "source": [
    "**Optimisé**\n",
    "\n"
   ]
  },
  {
   "cell_type": "code",
   "execution_count": null,
   "metadata": {},
   "outputs": [],
   "source": [
    "# Programme testant si une année, saisie par l'utilisateur, est bissextile ou non\n",
    "\n",
    "annee = input(\"Saisissez une année : \") # On attend que l'utilisateur saisisse l'année qu'il désire tester\n",
    "annee = int(annee) # Risque d'erreur si l'utilisateur n'a pas saisi un nombre\n",
    "\n",
    "if annee % 400 == 0 or (annee % 4 == 0 and annee % 100 != 0):\n",
    "    print(\"L'année saisie est bissextile.\")\n",
    "else:\n",
    "    print(\"L'année saisie n'est pas bissextile.\")"
   ]
  },
  {
   "cell_type": "markdown",
   "metadata": {},
   "source": [
    "**BOUCLES**"
   ]
  },
  {
   "cell_type": "code",
   "execution_count": 2,
   "metadata": {},
   "outputs": [
    {
     "name": "stdout",
     "output_type": "stream",
     "text": [
      "*\n",
      "o\n",
      "*\n",
      "*\n",
      "o\n",
      "u\n",
      "*\n",
      "*\n",
      "a\n",
      "*\n",
      "*\n",
      "O\n",
      "U\n",
      "*\n"
     ]
    }
   ],
   "source": [
    "chaine = \"Bonjour a TOUS\"\n",
    "for lettre in chaine:\n",
    "    if lettre in \"AEIOUYaeiouy\": # lettre est une voyelle\n",
    "        print(lettre)\n",
    "    else: # lettre est une consonne... ou plus exactement, lettre n'est pas une voyelle\n",
    "        print(\"*\")"
   ]
  },
  {
   "cell_type": "markdown",
   "metadata": {},
   "source": [
    "**fonction**"
   ]
  },
  {
   "cell_type": "code",
   "execution_count": 3,
   "metadata": {},
   "outputs": [],
   "source": [
    "def table(nb, max):\n",
    "    i = 0\n",
    "    while i < max: # Tant que i est strictement inférieure à la variable max,\n",
    "        print(i + 1, \"*\", nb, \"=\", (i + 1) * nb)\n",
    "        i += 1"
   ]
  },
  {
   "cell_type": "code",
   "execution_count": 4,
   "metadata": {},
   "outputs": [
    {
     "name": "stdout",
     "output_type": "stream",
     "text": [
      "1 * 3 = 3\n",
      "2 * 3 = 6\n",
      "3 * 3 = 9\n",
      "4 * 3 = 12\n",
      "5 * 3 = 15\n",
      "6 * 3 = 18\n",
      "7 * 3 = 21\n",
      "8 * 3 = 24\n",
      "9 * 3 = 27\n",
      "10 * 3 = 30\n"
     ]
    }
   ],
   "source": [
    "table(3,10)"
   ]
  },
  {
   "cell_type": "code",
   "execution_count": 1,
   "metadata": {},
   "outputs": [
    {
     "name": "stdout",
     "output_type": "stream",
     "text": [
      "Saisissez une année : 23\n",
      "L'année saisie n'est pas bissextile.\n"
     ]
    }
   ],
   "source": [
    "run bissextile.py"
   ]
  },
  {
   "cell_type": "code",
   "execution_count": 24,
   "metadata": {},
   "outputs": [],
   "source": [
    "run multi.py"
   ]
  },
  {
   "cell_type": "code",
   "execution_count": 32,
   "metadata": {},
   "outputs": [],
   "source": [
    "from multi import*"
   ]
  },
  {
   "cell_type": "code",
   "execution_count": 33,
   "metadata": {},
   "outputs": [
    {
     "name": "stdout",
     "output_type": "stream",
     "text": [
      "1 * 3 = 3\n",
      "2 * 3 = 6\n",
      "3 * 3 = 9\n",
      "4 * 3 = 12\n",
      "5 * 3 = 15\n",
      "6 * 3 = 18\n",
      "7 * 3 = 21\n",
      "8 * 3 = 24\n",
      "9 * 3 = 27\n",
      "10 * 3 = 30\n",
      "11 * 3 = 33\n",
      "12 * 3 = 36\n",
      "13 * 3 = 39\n",
      "14 * 3 = 42\n",
      "15 * 3 = 45\n",
      "16 * 3 = 48\n",
      "17 * 3 = 51\n",
      "18 * 3 = 54\n",
      "19 * 3 = 57\n",
      "20 * 3 = 60\n"
     ]
    }
   ],
   "source": [
    "table(3,20)"
   ]
  },
  {
   "cell_type": "code",
   "execution_count": 35,
   "metadata": {},
   "outputs": [
    {
     "name": "stdout",
     "output_type": "stream",
     "text": [
      "Help on function table in module multi:\n",
      "\n",
      "table(nb, max=10)\n",
      "    Fonction affichant la table de multiplication par nb de\n",
      "    1 * nb jusqu'à max * nb\n",
      "\n"
     ]
    }
   ],
   "source": [
    "help(table)"
   ]
  },
  {
   "cell_type": "code",
   "execution_count": 36,
   "metadata": {},
   "outputs": [
    {
     "name": "stdout",
     "output_type": "stream",
     "text": [
      "1 * 5 = 5\n",
      "2 * 5 = 10\n",
      "3 * 5 = 15\n",
      "4 * 5 = 20\n",
      "5 * 5 = 25\n",
      "6 * 5 = 30\n",
      "7 * 5 = 35\n",
      "8 * 5 = 40\n",
      "9 * 5 = 45\n",
      "10 * 5 = 50\n"
     ]
    }
   ],
   "source": [
    "from package.fonctions import table\n",
    "table(5) # Appel de la fonction table"
   ]
  },
  {
   "cell_type": "markdown",
   "metadata": {},
   "source": [
    "TEST PROG POUR EFISPEC"
   ]
  },
  {
   "cell_type": "code",
   "execution_count": 17,
   "metadata": {},
   "outputs": [],
   "source": [
    "import numpy as np\n",
    "x = z = np.arange(0.0,5.0,1.0)\n",
    "y = 2*x\n",
    "np.savetxt('test2.out', (xy))   # x,y,z equal sized 1D arrays\n"
   ]
  },
  {
   "cell_type": "code",
   "execution_count": 45,
   "metadata": {},
   "outputs": [
    {
     "name": "stdout",
     "output_type": "stream",
     "text": [
      "[array([0., 1., 2., 3., 4.]), array([0., 2., 4., 6., 8.])]\n",
      "[[0. 0.]\n",
      " [1. 2.]\n",
      " [2. 4.]\n",
      " [3. 6.]\n",
      " [4. 8.]]\n"
     ]
    }
   ],
   "source": [
    "xy=[x,y]\n",
    "print(xy)\n",
    "\n",
    "xy=np.transpose(xy)\n",
    "print(xy)\n",
    "np.savetxt('test2.out', (xy))   # x,y,z equal sized 1D arrays"
   ]
  },
  {
   "cell_type": "code",
   "execution_count": 50,
   "metadata": {},
   "outputs": [
    {
     "name": "stdout",
     "output_type": "stream",
     "text": [
      "x source:720\n",
      "y source:720\n",
      "distance source 1er recepteur:10\n",
      "nb de recepteurs:80\n",
      "distance entre recepteurs:1\n"
     ]
    }
   ],
   "source": [
    "#test prog recepteur\n",
    "import numpy as np\n",
    "\n",
    "xsource=input('x source:')\n",
    "xsource=int(xsource)\n",
    "\n",
    "ysource=input('y source:')\n",
    "ysource=int(ysource)\n",
    "\n",
    "x1=input('distance source 1er recepteur:')\n",
    "x1=int(x1)\n",
    "\n",
    "nb=input('nb de recepteurs:')\n",
    "nb=int(nb)\n",
    "\n",
    "dx=input('distance entre recepteurs:')\n",
    "dx=int(dx)\n",
    "\n",
    "xrec=np.arange((xsource+x1),(xsource+x1)+((nb)*dx),dx)\n",
    "yrec=np.linspace(ysource,ysource,nb)\n",
    "\n",
    "xy=[xrec,yrec]\n",
    "xy=np.transpose(xy)\n",
    "\n",
    "#print(xy,np.size(xrec),np.size(yrec))\n",
    "np.savetxt(\"prefix.fsr\",(xy) )"
   ]
  },
  {
   "cell_type": "code",
   "execution_count": null,
   "metadata": {},
   "outputs": [],
   "source": []
  },
  {
   "cell_type": "code",
   "execution_count": 49,
   "metadata": {},
   "outputs": [],
   "source": []
  },
  {
   "cell_type": "code",
   "execution_count": null,
   "metadata": {},
   "outputs": [],
   "source": []
  }
 ],
 "metadata": {
  "kernelspec": {
   "display_name": "Python 3",
   "language": "python",
   "name": "python3"
  },
  "language_info": {
   "codemirror_mode": {
    "name": "ipython",
    "version": 3
   },
   "file_extension": ".py",
   "mimetype": "text/x-python",
   "name": "python",
   "nbconvert_exporter": "python",
   "pygments_lexer": "ipython3",
   "version": "3.7.6"
  }
 },
 "nbformat": 4,
 "nbformat_minor": 2
}
