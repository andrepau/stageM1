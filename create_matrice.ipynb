{
 "cells": [
  {
   "cell_type": "code",
   "execution_count": 1,
   "metadata": {},
   "outputs": [],
   "source": [
    "import numpy as np\n",
    "import matplotlib.pyplot as plt\n",
    "from numpy.fft import fft \n",
    "from numpy.fft import ifft \n",
    "import scipy as sp\n",
    "from scipy.signal import butter, lfilter, filtfilt\n",
    "from scipy.signal import freqz\n",
    "import os"
   ]
  },
  {
   "cell_type": "code",
   "execution_count": 2,
   "metadata": {},
   "outputs": [
    {
     "name": "stdout",
     "output_type": "stream",
     "text": [
      "24\n"
     ]
    },
    {
     "data": {
      "text/plain": [
       "['digue4.fsr.000001.gpl.saitofilter.asc',\n",
       " 'digue4.fsr.000002.gpl.saitofilter.asc',\n",
       " 'digue4.fsr.000003.gpl.saitofilter.asc',\n",
       " 'digue4.fsr.000004.gpl.saitofilter.asc',\n",
       " 'digue4.fsr.000005.gpl.saitofilter.asc',\n",
       " 'digue4.fsr.000006.gpl.saitofilter.asc',\n",
       " 'digue4.fsr.000007.gpl.saitofilter.asc',\n",
       " 'digue4.fsr.000008.gpl.saitofilter.asc',\n",
       " 'digue4.fsr.000009.gpl.saitofilter.asc',\n",
       " 'digue4.fsr.000010.gpl.saitofilter.asc',\n",
       " 'digue4.fsr.000011.gpl.saitofilter.asc',\n",
       " 'digue4.fsr.000012.gpl.saitofilter.asc',\n",
       " 'digue4.fsr.000013.gpl.saitofilter.asc',\n",
       " 'digue4.fsr.000014.gpl.saitofilter.asc',\n",
       " 'digue4.fsr.000015.gpl.saitofilter.asc',\n",
       " 'digue4.fsr.000016.gpl.saitofilter.asc',\n",
       " 'digue4.fsr.000017.gpl.saitofilter.asc',\n",
       " 'digue4.fsr.000018.gpl.saitofilter.asc',\n",
       " 'digue4.fsr.000019.gpl.saitofilter.asc',\n",
       " 'digue4.fsr.000020.gpl.saitofilter.asc',\n",
       " 'digue4.fsr.000021.gpl.saitofilter.asc',\n",
       " 'digue4.fsr.000022.gpl.saitofilter.asc',\n",
       " 'digue4.fsr.000023.gpl.saitofilter.asc',\n",
       " 'digue4.fsr.000024.gpl.saitofilter.asc']"
      ]
     },
     "execution_count": 2,
     "metadata": {},
     "output_type": "execute_result"
    }
   ],
   "source": [
    "dossier='DIGUE_4'\n",
    "liste = os.listdir()\n",
    "\n",
    "liste=liste[2:]\n",
    "print(np.size(liste))\n",
    "liste"
   ]
  },
  {
   "cell_type": "code",
   "execution_count": 3,
   "metadata": {},
   "outputs": [
    {
     "name": "stdout",
     "output_type": "stream",
     "text": [
      "0 digue4.fsr.000001.gpl.saitofilter.asc\n",
      "1 digue4.fsr.000002.gpl.saitofilter.asc\n",
      "2 digue4.fsr.000003.gpl.saitofilter.asc\n",
      "3 digue4.fsr.000004.gpl.saitofilter.asc\n",
      "4 digue4.fsr.000005.gpl.saitofilter.asc\n",
      "5 digue4.fsr.000006.gpl.saitofilter.asc\n",
      "6 digue4.fsr.000007.gpl.saitofilter.asc\n",
      "7 digue4.fsr.000008.gpl.saitofilter.asc\n",
      "8 digue4.fsr.000009.gpl.saitofilter.asc\n",
      "9 digue4.fsr.000010.gpl.saitofilter.asc\n",
      "10 digue4.fsr.000011.gpl.saitofilter.asc\n",
      "11 digue4.fsr.000012.gpl.saitofilter.asc\n",
      "12 digue4.fsr.000013.gpl.saitofilter.asc\n",
      "13 digue4.fsr.000014.gpl.saitofilter.asc\n",
      "14 digue4.fsr.000015.gpl.saitofilter.asc\n",
      "15 digue4.fsr.000016.gpl.saitofilter.asc\n",
      "16 digue4.fsr.000017.gpl.saitofilter.asc\n",
      "17 digue4.fsr.000018.gpl.saitofilter.asc\n",
      "18 digue4.fsr.000019.gpl.saitofilter.asc\n",
      "19 digue4.fsr.000020.gpl.saitofilter.asc\n",
      "20 digue4.fsr.000021.gpl.saitofilter.asc\n",
      "21 digue4.fsr.000022.gpl.saitofilter.asc\n",
      "22 digue4.fsr.000023.gpl.saitofilter.asc\n",
      "23 digue4.fsr.000024.gpl.saitofilter.asc\n"
     ]
    }
   ],
   "source": [
    "for i, e in enumerate(liste):\n",
    "    print(i,e)"
   ]
  },
  {
   "cell_type": "code",
   "execution_count": 4,
   "metadata": {},
   "outputs": [
    {
     "name": "stdout",
     "output_type": "stream",
     "text": [
      "(30001, 10) 300010\n"
     ]
    }
   ],
   "source": [
    "data=np.loadtxt(liste[0])\n",
    "print(np.shape(data),np.size(data))"
   ]
  },
  {
   "cell_type": "code",
   "execution_count": 5,
   "metadata": {},
   "outputs": [
    {
     "name": "stdout",
     "output_type": "stream",
     "text": [
      "(30001, 24)\n"
     ]
    }
   ],
   "source": [
    "N=(np.size(data)/10)\n",
    "N=int(N)\n",
    "M=np.size(liste)\n",
    "M=int(M)\n",
    "\n",
    "waveform=np.zeros((N,M))\n",
    "\n",
    "for i, e in enumerate(liste):\n",
    "    data=np.loadtxt(e)\n",
    "    uz=data[:,3]\n",
    "    waveform[:,i]=uz\n",
    "    \n",
    "print(np.shape(waveform))"
   ]
  },
  {
   "cell_type": "code",
   "execution_count": 6,
   "metadata": {},
   "outputs": [],
   "source": [
    "np.savetxt('digue4.txt', waveform)"
   ]
  },
  {
   "cell_type": "code",
   "execution_count": null,
   "metadata": {},
   "outputs": [],
   "source": []
  }
 ],
 "metadata": {
  "kernelspec": {
   "display_name": "Python 3",
   "language": "python",
   "name": "python3"
  },
  "language_info": {
   "codemirror_mode": {
    "name": "ipython",
    "version": 3
   },
   "file_extension": ".py",
   "mimetype": "text/x-python",
   "name": "python",
   "nbconvert_exporter": "python",
   "pygments_lexer": "ipython3",
   "version": "3.7.6"
  }
 },
 "nbformat": 4,
 "nbformat_minor": 2
}
